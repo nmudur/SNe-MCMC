{
 "cells": [
  {
   "cell_type": "code",
   "execution_count": 1,
   "metadata": {},
   "outputs": [],
   "source": [
    "import numpy as np\n",
    "from astropy.cosmology import LambdaCDM\n",
    "import matplotlib.pyplot as plt\n",
    "import pandas as pd\n",
    "from plotly.subplots import make_subplots\n",
    "import plotly.graph_objs as go\n",
    "from Cosmo212.mcmc_helper_jla import *"
   ]
  },
  {
   "cell_type": "code",
   "execution_count": 3,
   "metadata": {},
   "outputs": [],
   "source": [
    "dir_path='Datasets/JLA Data/jla_likelihood_v6/data/'\n",
    "fname_cov='jla_mub_covmatrix.dat'\n",
    "fname_mub='jla_mub.txt'\n",
    "\n",
    "covdat=np.loadtxt(dir_path+fname_cov, skiprows=1).reshape(31, 31)\n",
    "mumat=np.loadtxt(dir_path+fname_mub, skiprows=1, delimiter=' ')"
   ]
  },
  {
   "cell_type": "code",
   "execution_count": 4,
   "metadata": {},
   "outputs": [],
   "source": [
    "#Fixed h likelihoods\n",
    "cov_inv=np.linalg.inv(covdat)\n",
    "z_arr, mu_obs=mumat[:, 0], mumat[:, 1]\n",
    "\n",
    "def rlist_to_csv(list_obj, cnames, fname): #saving a list of rows to a csv file\n",
    "    df = pd.DataFrame(list_obj)\n",
    "    print(df.head())\n",
    "    df.columns = cnames #[\"Session\", \"Channel\", \"Cluster\", \"p Value\", \"RSeq Time Window\"]\n",
    "    #df.to_csv(fname)\n",
    "    return df "
   ]
  },
  {
   "cell_type": "code",
   "execution_count": 5,
   "metadata": {},
   "outputs": [
    {
     "data": {
      "text/plain": [
       "array([0.01 , 0.012, 0.014, 0.016, 0.019, 0.023, 0.026, 0.031, 0.037,\n",
       "       0.043, 0.051, 0.06 , 0.07 , 0.082, 0.097, 0.114, 0.134, 0.158,\n",
       "       0.186, 0.218, 0.257, 0.302, 0.355, 0.418, 0.491, 0.578, 0.679,\n",
       "       0.799, 0.94 , 1.105, 1.3  ])"
      ]
     },
     "execution_count": 5,
     "metadata": {},
     "output_type": "execute_result"
    }
   ],
   "source": [
    "z_arr"
   ]
  },
  {
   "cell_type": "code",
   "execution_count": 4,
   "metadata": {},
   "outputs": [
    {
     "name": "stdout",
     "output_type": "stream",
     "text": [
      "0.2 0.73 :  -24.560339135110794\n",
      "0.25 0.73 :  -25.449087231999883\n",
      "0.3 0.73 :  -30.65481888932448\n",
      "0.35 0.73 :  -39.38725709171676\n",
      "0.39999999999999997 0.73 :  -51.0488003756413\n",
      "0.44999999999999996 0.73 :  -65.17463825922725\n",
      "0.49999999999999994 0.73 :  -81.39515411904368\n",
      "0.5499999999999999 0.73 :  -99.41113024115339\n",
      "0.5999999999999999 0.73 :  -118.97674117634516\n",
      "0.6499999999999999 0.73 :  -139.8875092737427\n",
      "      0     1          2\n",
      "0  0.20  0.73 -24.560339\n",
      "1  0.25  0.73 -25.449087\n",
      "2  0.30  0.73 -30.654819\n",
      "3  0.35  0.73 -39.387257\n",
      "4  0.40  0.73 -51.048800\n",
      "Usual BF:  -29.309505130606706\n"
     ]
    }
   ],
   "source": [
    "#Fixed h likelihoods\n",
    "cov_inv=np.linalg.inv(covdat)\n",
    "z_arr, mu_obs=mumat[:, 0], mumat[:, 1]\n",
    "\n",
    "\n",
    "om_range=np.arange(0.2, 0.7, 0.05)\n",
    "h=0.73\n",
    "llist=[]\n",
    "for om_m in om_range:\n",
    "    lik=ln_likelihood_2d(mu_obs, cov_inv, z_arr, [om_m, h])\n",
    "    print (om_m, h, ': ', lik)\n",
    "    llist.append([om_m, h, lik])\n",
    "            \n",
    "likdf=rlist_to_csv(llist, ['Om_m', 'h', 'Ln Lik'], \"..\")\n",
    "print ('Usual BF: ', ln_likelihood_2d(mu_obs, cov_inv, z_arr, [0.29, 0.73]))"
   ]
  },
  {
   "cell_type": "code",
   "execution_count": 13,
   "metadata": {},
   "outputs": [
    {
     "data": {
      "text/html": [
       "<div>\n",
       "<style scoped>\n",
       "    .dataframe tbody tr th:only-of-type {\n",
       "        vertical-align: middle;\n",
       "    }\n",
       "\n",
       "    .dataframe tbody tr th {\n",
       "        vertical-align: top;\n",
       "    }\n",
       "\n",
       "    .dataframe thead th {\n",
       "        text-align: right;\n",
       "    }\n",
       "</style>\n",
       "<table border=\"1\" class=\"dataframe\">\n",
       "  <thead>\n",
       "    <tr style=\"text-align: right;\">\n",
       "      <th></th>\n",
       "      <th>z</th>\n",
       "      <th>mu</th>\n",
       "      <th>mu_exp</th>\n",
       "    </tr>\n",
       "  </thead>\n",
       "  <tbody>\n",
       "    <tr>\n",
       "      <th>0</th>\n",
       "      <td>0.010</td>\n",
       "      <td>32.953887</td>\n",
       "      <td>33.175481</td>\n",
       "    </tr>\n",
       "    <tr>\n",
       "      <th>1</th>\n",
       "      <td>0.012</td>\n",
       "      <td>33.879003</td>\n",
       "      <td>33.574732</td>\n",
       "    </tr>\n",
       "    <tr>\n",
       "      <th>2</th>\n",
       "      <td>0.014</td>\n",
       "      <td>33.842141</td>\n",
       "      <td>33.912800</td>\n",
       "    </tr>\n",
       "    <tr>\n",
       "      <th>3</th>\n",
       "      <td>0.016</td>\n",
       "      <td>34.118567</td>\n",
       "      <td>34.206084</td>\n",
       "    </tr>\n",
       "    <tr>\n",
       "      <th>4</th>\n",
       "      <td>0.019</td>\n",
       "      <td>34.593446</td>\n",
       "      <td>34.584221</td>\n",
       "    </tr>\n",
       "    <tr>\n",
       "      <th>5</th>\n",
       "      <td>0.023</td>\n",
       "      <td>34.939027</td>\n",
       "      <td>35.005684</td>\n",
       "    </tr>\n",
       "    <tr>\n",
       "      <th>6</th>\n",
       "      <td>0.026</td>\n",
       "      <td>35.252096</td>\n",
       "      <td>35.276830</td>\n",
       "    </tr>\n",
       "    <tr>\n",
       "      <th>7</th>\n",
       "      <td>0.031</td>\n",
       "      <td>35.748502</td>\n",
       "      <td>35.666922</td>\n",
       "    </tr>\n",
       "    <tr>\n",
       "      <th>8</th>\n",
       "      <td>0.037</td>\n",
       "      <td>36.069788</td>\n",
       "      <td>36.060825</td>\n",
       "    </tr>\n",
       "    <tr>\n",
       "      <th>9</th>\n",
       "      <td>0.043</td>\n",
       "      <td>36.434570</td>\n",
       "      <td>36.396778</td>\n",
       "    </tr>\n",
       "    <tr>\n",
       "      <th>10</th>\n",
       "      <td>0.051</td>\n",
       "      <td>36.651111</td>\n",
       "      <td>36.779984</td>\n",
       "    </tr>\n",
       "    <tr>\n",
       "      <th>11</th>\n",
       "      <td>0.060</td>\n",
       "      <td>37.158014</td>\n",
       "      <td>37.147001</td>\n",
       "    </tr>\n",
       "    <tr>\n",
       "      <th>12</th>\n",
       "      <td>0.070</td>\n",
       "      <td>37.430173</td>\n",
       "      <td>37.497204</td>\n",
       "    </tr>\n",
       "    <tr>\n",
       "      <th>13</th>\n",
       "      <td>0.082</td>\n",
       "      <td>37.956616</td>\n",
       "      <td>37.859058</td>\n",
       "    </tr>\n",
       "    <tr>\n",
       "      <th>14</th>\n",
       "      <td>0.097</td>\n",
       "      <td>38.253254</td>\n",
       "      <td>38.246260</td>\n",
       "    </tr>\n",
       "    <tr>\n",
       "      <th>15</th>\n",
       "      <td>0.114</td>\n",
       "      <td>38.612869</td>\n",
       "      <td>38.621764</td>\n",
       "    </tr>\n",
       "    <tr>\n",
       "      <th>16</th>\n",
       "      <td>0.134</td>\n",
       "      <td>39.067851</td>\n",
       "      <td>39.001242</td>\n",
       "    </tr>\n",
       "    <tr>\n",
       "      <th>17</th>\n",
       "      <td>0.158</td>\n",
       "      <td>39.341402</td>\n",
       "      <td>39.392157</td>\n",
       "    </tr>\n",
       "    <tr>\n",
       "      <th>18</th>\n",
       "      <td>0.186</td>\n",
       "      <td>39.792144</td>\n",
       "      <td>39.783767</td>\n",
       "    </tr>\n",
       "    <tr>\n",
       "      <th>19</th>\n",
       "      <td>0.218</td>\n",
       "      <td>40.156535</td>\n",
       "      <td>40.169459</td>\n",
       "    </tr>\n",
       "    <tr>\n",
       "      <th>20</th>\n",
       "      <td>0.257</td>\n",
       "      <td>40.564956</td>\n",
       "      <td>40.574481</td>\n",
       "    </tr>\n",
       "    <tr>\n",
       "      <th>21</th>\n",
       "      <td>0.302</td>\n",
       "      <td>40.905288</td>\n",
       "      <td>40.976884</td>\n",
       "    </tr>\n",
       "    <tr>\n",
       "      <th>22</th>\n",
       "      <td>0.355</td>\n",
       "      <td>41.421417</td>\n",
       "      <td>41.385551</td>\n",
       "    </tr>\n",
       "    <tr>\n",
       "      <th>23</th>\n",
       "      <td>0.418</td>\n",
       "      <td>41.790923</td>\n",
       "      <td>41.803927</td>\n",
       "    </tr>\n",
       "    <tr>\n",
       "      <th>24</th>\n",
       "      <td>0.491</td>\n",
       "      <td>42.231461</td>\n",
       "      <td>42.221341</td>\n",
       "    </tr>\n",
       "    <tr>\n",
       "      <th>25</th>\n",
       "      <td>0.578</td>\n",
       "      <td>42.617047</td>\n",
       "      <td>42.649221</td>\n",
       "    </tr>\n",
       "    <tr>\n",
       "      <th>26</th>\n",
       "      <td>0.679</td>\n",
       "      <td>43.052731</td>\n",
       "      <td>43.075820</td>\n",
       "    </tr>\n",
       "    <tr>\n",
       "      <th>27</th>\n",
       "      <td>0.799</td>\n",
       "      <td>43.504151</td>\n",
       "      <td>43.510314</td>\n",
       "    </tr>\n",
       "    <tr>\n",
       "      <th>28</th>\n",
       "      <td>0.940</td>\n",
       "      <td>43.972573</td>\n",
       "      <td>43.946675</td>\n",
       "    </tr>\n",
       "    <tr>\n",
       "      <th>29</th>\n",
       "      <td>1.105</td>\n",
       "      <td>44.514088</td>\n",
       "      <td>44.382283</td>\n",
       "    </tr>\n",
       "    <tr>\n",
       "      <th>30</th>\n",
       "      <td>1.300</td>\n",
       "      <td>44.821867</td>\n",
       "      <td>44.820368</td>\n",
       "    </tr>\n",
       "  </tbody>\n",
       "</table>\n",
       "</div>"
      ],
      "text/plain": [
       "        z         mu     mu_exp\n",
       "0   0.010  32.953887  33.175481\n",
       "1   0.012  33.879003  33.574732\n",
       "2   0.014  33.842141  33.912800\n",
       "3   0.016  34.118567  34.206084\n",
       "4   0.019  34.593446  34.584221\n",
       "5   0.023  34.939027  35.005684\n",
       "6   0.026  35.252096  35.276830\n",
       "7   0.031  35.748502  35.666922\n",
       "8   0.037  36.069788  36.060825\n",
       "9   0.043  36.434570  36.396778\n",
       "10  0.051  36.651111  36.779984\n",
       "11  0.060  37.158014  37.147001\n",
       "12  0.070  37.430173  37.497204\n",
       "13  0.082  37.956616  37.859058\n",
       "14  0.097  38.253254  38.246260\n",
       "15  0.114  38.612869  38.621764\n",
       "16  0.134  39.067851  39.001242\n",
       "17  0.158  39.341402  39.392157\n",
       "18  0.186  39.792144  39.783767\n",
       "19  0.218  40.156535  40.169459\n",
       "20  0.257  40.564956  40.574481\n",
       "21  0.302  40.905288  40.976884\n",
       "22  0.355  41.421417  41.385551\n",
       "23  0.418  41.790923  41.803927\n",
       "24  0.491  42.231461  42.221341\n",
       "25  0.578  42.617047  42.649221\n",
       "26  0.679  43.052731  43.075820\n",
       "27  0.799  43.504151  43.510314\n",
       "28  0.940  43.972573  43.946675\n",
       "29  1.105  44.514088  44.382283\n",
       "30  1.300  44.821867  44.820368"
      ]
     },
     "execution_count": 13,
     "metadata": {},
     "output_type": "execute_result"
    }
   ],
   "source": [
    "from Cosmo212.jla_mcmc_binned import*\n",
    "dfdat, covmat=data_load()\n",
    "cosmo=FlatLambdaCDM(Om0=0.29, H0=100*0.70)\n",
    "dfdat['mu_exp']=cosmo.distmod(dfdat['z'].values).value\n",
    "dfdat"
   ]
  },
  {
   "cell_type": "code",
   "execution_count": 14,
   "metadata": {},
   "outputs": [
    {
     "name": "stdout",
     "output_type": "stream",
     "text": [
      "[0.3042719] [64.6845284] [33.69824454]\n"
     ]
    },
    {
     "data": {
      "text/plain": [
       "-16.849122270459738"
      ]
     },
     "execution_count": 14,
     "metadata": {},
     "output_type": "execute_result"
    }
   ],
   "source": [
    "mu_exp=dfdat['mu_exp'].values\n",
    "mu_act=dfdat['mu'].values\n",
    "\n",
    "r=(mu_act-mu_exp).reshape(-1, 1)\n",
    "-np.matmul(r.T, np.matmul(cov_inv, r))/2 #looks like the 33 chi2 thing that you remember from somewhere\n",
    "print (max(r), max(np.matmul(cov_inv, r)), max(np.matmul(r.T, np.matmul(cov_inv, r))))\n",
    "ln_likelihood_2d(mu_act, cov_inv, mumat[:, 0], [0.29, 0.70])"
   ]
  },
  {
   "cell_type": "code",
   "execution_count": 15,
   "metadata": {},
   "outputs": [
    {
     "name": "stdout",
     "output_type": "stream",
     "text": [
      "     0     1            2\n",
      "0  0.2  0.40 -2659.180798\n",
      "1  0.2  0.42 -2235.057504\n",
      "2  0.2  0.44 -1865.264408\n",
      "3  0.2  0.46 -1543.465449\n",
      "4  0.2  0.48 -1264.259343\n",
      "Usual BF:  -29.309505130606706\n"
     ]
    },
    {
     "data": {
      "text/html": [
       "<div>\n",
       "<style scoped>\n",
       "    .dataframe tbody tr th:only-of-type {\n",
       "        vertical-align: middle;\n",
       "    }\n",
       "\n",
       "    .dataframe tbody tr th {\n",
       "        vertical-align: top;\n",
       "    }\n",
       "\n",
       "    .dataframe thead th {\n",
       "        text-align: right;\n",
       "    }\n",
       "</style>\n",
       "<table border=\"1\" class=\"dataframe\">\n",
       "  <thead>\n",
       "    <tr style=\"text-align: right;\">\n",
       "      <th></th>\n",
       "      <th>Om_m</th>\n",
       "      <th>h</th>\n",
       "      <th>Ln Lik</th>\n",
       "    </tr>\n",
       "  </thead>\n",
       "  <tbody>\n",
       "    <tr>\n",
       "      <th>115</th>\n",
       "      <td>0.3</td>\n",
       "      <td>0.7</td>\n",
       "      <td>-16.823628</td>\n",
       "    </tr>\n",
       "  </tbody>\n",
       "</table>\n",
       "</div>"
      ],
      "text/plain": [
       "     Om_m    h     Ln Lik\n",
       "115   0.3  0.7 -16.823628"
      ]
     },
     "execution_count": 15,
     "metadata": {},
     "output_type": "execute_result"
    }
   ],
   "source": [
    "om_range=np.arange(0.2, 0.7, 0.02)\n",
    "h_range=np.arange(0.4, 0.8, 0.02)\n",
    "llist=[]\n",
    "for om_m in om_range:\n",
    "    for h in h_range:\n",
    "        lik=ln_likelihood_2d(mu_act, cov_inv, mumat[:, 0], [om_m, h])\n",
    "        #print (om_m, h, ': ', lik)\n",
    "        llist.append([om_m, h, lik])\n",
    "            \n",
    "likdf=rlist_to_csv(llist, ['Om_m', 'h', 'Ln Lik'], \"..\")\n",
    "print ('Usual BF: ', ln_likelihood_2d(mu_obs, cov_inv, z_arr, [0.29, 0.73]))\n",
    "likdf[likdf['Ln Lik']==likdf['Ln Lik'].max()]"
   ]
  },
  {
   "cell_type": "code",
   "execution_count": 27,
   "metadata": {},
   "outputs": [],
   "source": [
    "#Confidence Ellipses sig level\n",
    "import numpy as np\n",
    "from scipy.stats import norm, chi2\n",
    "\n",
    "def cov_ellipse(cov, q=None, nsig=None, **kwargs):\n",
    "    \"\"\"\n",
    "    Parameters\n",
    "    ----------\n",
    "    cov : (2, 2) array\n",
    "        Covariance matrix.\n",
    "    q : float, optional\n",
    "        Confidence level, should be in (0, 1)\n",
    "    nsig : int, optional\n",
    "        Confidence level in unit of standard deviations. \n",
    "        E.g. 1 stands for 68.3% and 2 stands for 95.4%.\n",
    "\n",
    "    Returns\n",
    "    -------\n",
    "    width, height, rotation :\n",
    "         The lengths of two axises and the rotation angle in degree\n",
    "    for the ellipse.\n",
    "    \"\"\"\n",
    "\n",
    "    if q is not None:\n",
    "        q = np.asarray(q)\n",
    "    elif nsig is not None:\n",
    "        q = 2 * norm.cdf(nsig) - 1\n",
    "    else:\n",
    "        raise ValueError('One of `q` and `nsig` should be specified.')\n",
    "    r2 = chi2.ppf(q, 2)\n",
    "\n",
    "    val, vec = np.linalg.eigh(cov)\n",
    "    width, height = 2 * np.sqrt(val[:, None] * r2)\n",
    "    rotation = np.degrees(np.arctan2(*vec[::-1, 0]))\n",
    "\n",
    "    return width, height, rotation"
   ]
  },
  {
   "cell_type": "code",
   "execution_count": 28,
   "metadata": {},
   "outputs": [],
   "source": [
    "chains=np.loadtxt('Cosmo212/Results_JLA/Main1/chfinal_0.txt')[int(0.1*200000):, :]\n",
    "covar=np.cov(chains.T)"
   ]
  },
  {
   "cell_type": "code",
   "execution_count": 33,
   "metadata": {},
   "outputs": [],
   "source": [
    "from matplotlib.patches import Ellipse\n",
    "\n",
    "def plot_confidence_ellipses_CL(mat, bool_save, dir_save, choice):\n",
    "    if choice=='FL2':\n",
    "        params = ['Omega_m', 'h']\n",
    "        print (params)\n",
    "        fig, ax = plt.subplots()\n",
    "        sigcolors=[[0.683, 'red', '-'], [0.954, 'green', '--'], [0.997, 'black', ':']]\n",
    "        ax.scatter(x=mat[:, 0], y=mat[:, 1], s=0.25, color='blue')\n",
    "        covar=np.cov(mat.T)\n",
    "        for scomb in sigcolors:\n",
    "            w, h, r=cov_ellipse(covar, scomb[0])\n",
    "            ellipse = Ellipse((np.mean(mat[:, 0]), np.mean(mat[:, 1])), width=w, height=h, angle=r, edgecolor=scomb[1], linestyle=scomb[2], fill=False)\n",
    "            ax.add_patch(ellipse)\n",
    "        ax.set_xlabel(params[0])\n",
    "        ax.set_ylabel(params[1])\n",
    "        fig.suptitle('Confidence Ellipses')\n",
    "        if bool_save:\n",
    "            plt.savefig(dir_save)\n",
    "        plt.show()\n",
    "    return"
   ]
  },
  {
   "cell_type": "code",
   "execution_count": 34,
   "metadata": {},
   "outputs": [
    {
     "name": "stdout",
     "output_type": "stream",
     "text": [
      "['Omega_m', 'h']\n"
     ]
    },
    {
     "data": {
      "image/png": "[encoded data removed]",
      "text/plain": [
       "<Figure size 432x288 with 1 Axes>"
      ]
     },
     "metadata": {
      "needs_background": "light"
     },
     "output_type": "display_data"
    }
   ],
   "source": []
  },
  {
   "cell_type": "code",
   "execution_count": null,
   "metadata": {},
   "outputs": [],
   "source": [
    "om_range=np.arange(0.2, 0.7, 0.02)\n",
    "h_range=np.arange(0.4, 0.8, 0.02)\n",
    "llist=[]\n",
    "for om_m in om_range:\n",
    "    for h in h_range:\n",
    "        lik=ln_likelihood_2d(mu_act, cov_inv, mumat[:, 0], [om_m, h])\n",
    "        #print (om_m, h, ': ', lik)\n",
    "        llist.append([om_m, h, lik])\n",
    "            \n",
    "likdf=rlist_to_csv(llist, ['Om_m', 'h', 'Ln Lik'], \"..\")\n",
    "print ('Usual BF: ', ln_likelihood_2d(mu_obs, cov_inv, z_arr, [0.29, 0.73]))\n",
    "likdf[likdf['Ln Lik']==likdf['Ln Lik'].max()]"
   ]
  },
  {
   "cell_type": "code",
   "execution_count": 44,
   "metadata": {},
   "outputs": [
    {
     "name": "stdout",
     "output_type": "stream",
     "text": [
      "4 1 2\n",
      "Diff [ 0.25 -0.25] (2,)\n",
      "Checks () () () () () () ()\n",
      "Checks per chain:  [2.5, 2.0] [1.6666666666666667, 0.15333333333333335]\n",
      "Avg across chains: W 0.91 2.25\n",
      "B, V^, R^:  0.5 0.8075 0.9419992767314831\n",
      "0.9419992767314831\n"
     ]
    }
   ],
   "source": [
    "matlist=[np.array([1, 2, 3, 4]), np.array([1.5, 2.2, 2.4, 1.9])]\n",
    "\n",
    "N, D, M=4, 1, 2\n",
    "print (N, D, M)\n",
    "\n",
    "ch_mean_list =[np.mean(mat, axis=0) for mat in matlist]         #mean of each chain\n",
    "sm_list=[(np.var(mat, axis=0)*N / (N-1)) for mat in matlist]    #var of each chain\n",
    "w_list= np.sum(np.array(sm_list), axis=0)/M                     #avg within chain variance, Needs to be adding across chains, not params--check!, shape=D\n",
    "all_mean=np.mean(np.array(ch_mean_list), axis=0)                #mean of means of all chains, Needs to be adding across chains, not params--check!\n",
    "diff=np.array(ch_mean_list) - all_mean                          #mean of each chain - mean of all\n",
    "\n",
    "b_list=np.sum(np.power(diff, 2), axis=0)*N/(M-1) #shape=D       #variance of within chain means\n",
    "var_est=w_list*(N-1)/N + b_list/N #shape=D                      #v^\n",
    "r_hat=np.sqrt(var_est/w_list) #shape=D\n",
    "\n",
    "print ('Diff', diff, diff.shape)\n",
    "print ('Checks', ch_mean_list[0].shape, sm_list[0].shape, w_list.shape, all_mean.shape, b_list.shape, var_est.shape, r_hat.shape)\n",
    "print('Checks per chain: ', ch_mean_list, sm_list)\n",
    "print ('Avg across chains: W', w_list, all_mean)\n",
    "print ('B, V^, R^: ', b_list, var_est, r_hat)\n",
    "print (r_hat)"
   ]
  },
  {
   "cell_type": "code",
   "execution_count": 40,
   "metadata": {},
   "outputs": [
    {
     "data": {
      "text/plain": [
       "1.82"
      ]
     },
     "execution_count": 40,
     "metadata": {},
     "output_type": "execute_result"
    }
   ],
   "source": [
    "sm"
   ]
  },
  {
   "cell_type": "code",
   "execution_count": 8,
   "metadata": {},
   "outputs": [],
   "source": [
    "df_full=pd.read_csv('Datasets/JLA Data/jla_likelihood_v6/data/jla_lcparams.txt', delim_whitespace=True)"
   ]
  },
  {
   "cell_type": "code",
   "execution_count": 12,
   "metadata": {},
   "outputs": [
    {
     "name": "stdout",
     "output_type": "stream",
     "text": [
      "0.01006 1.2991059999999999 740\n"
     ]
    }
   ],
   "source": [
    "print (df_full['zcmb'].min(), df_full['zcmb'].max(), len(df_full.index))"
   ]
  },
  {
   "cell_type": "code",
   "execution_count": null,
   "metadata": {},
   "outputs": [],
   "source": []
  }
 ],
 "metadata": {
  "kernelspec": {
   "display_name": "Python 3",
   "language": "python",
   "name": "python3"
  },
  "language_info": {
   "codemirror_mode": {
    "name": "ipython",
    "version": 3
   },
   "file_extension": ".py",
   "mimetype": "text/x-python",
   "name": "python",
   "nbconvert_exporter": "python",
   "pygments_lexer": "ipython3",
   "version": "3.7.5"
  }
 },
 "nbformat": 4,
 "nbformat_minor": 2
}
